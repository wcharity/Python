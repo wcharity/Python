{
 "cells": [
  {
   "cell_type": "code",
   "execution_count": 1,
   "id": "0c7a1cbe",
   "metadata": {},
   "outputs": [],
   "source": [
    "import pandas as pd\n",
    "import matplotlib.pyplot as plt"
   ]
  },
  {
   "cell_type": "code",
   "execution_count": 2,
   "id": "500c4818",
   "metadata": {},
   "outputs": [
    {
     "data": {
      "text/html": [
       "<div>\n",
       "<style scoped>\n",
       "    .dataframe tbody tr th:only-of-type {\n",
       "        vertical-align: middle;\n",
       "    }\n",
       "\n",
       "    .dataframe tbody tr th {\n",
       "        vertical-align: top;\n",
       "    }\n",
       "\n",
       "    .dataframe thead th {\n",
       "        text-align: right;\n",
       "    }\n",
       "</style>\n",
       "<table border=\"1\" class=\"dataframe\">\n",
       "  <thead>\n",
       "    <tr style=\"text-align: right;\">\n",
       "      <th></th>\n",
       "      <th>response_id</th>\n",
       "      <th>collection_date</th>\n",
       "      <th>urban_rural</th>\n",
       "      <th>education</th>\n",
       "      <th>income</th>\n",
       "      <th>Vote_Now</th>\n",
       "      <th>Past_Vote</th>\n",
       "      <th>CM_satisfaction</th>\n",
       "      <th>MLA_satisfaction</th>\n",
       "      <th>age</th>\n",
       "      <th>gender</th>\n",
       "      <th>assembly_no</th>\n",
       "      <th>category</th>\n",
       "      <th>weight</th>\n",
       "    </tr>\n",
       "  </thead>\n",
       "  <tbody>\n",
       "    <tr>\n",
       "      <th>0</th>\n",
       "      <td>1</td>\n",
       "      <td>5-24-2017</td>\n",
       "      <td>Rural</td>\n",
       "      <td>12th Pass</td>\n",
       "      <td>₹ 30,000 - ₹ 50,000</td>\n",
       "      <td>BJP</td>\n",
       "      <td>BJP</td>\n",
       "      <td>Fully Dissatisfied</td>\n",
       "      <td>Fully Dissatisfied</td>\n",
       "      <td>26</td>\n",
       "      <td>Male</td>\n",
       "      <td>211</td>\n",
       "      <td>Gen</td>\n",
       "      <td>0.346969</td>\n",
       "    </tr>\n",
       "    <tr>\n",
       "      <th>1</th>\n",
       "      <td>2</td>\n",
       "      <td>5-24-2017</td>\n",
       "      <td>Rural</td>\n",
       "      <td>Graduate</td>\n",
       "      <td>₹ 20,000 - ₹ 30,000</td>\n",
       "      <td>RLSP</td>\n",
       "      <td>JD(U)</td>\n",
       "      <td>Somewhat Satisfied</td>\n",
       "      <td>Fully Dissatisfied</td>\n",
       "      <td>34</td>\n",
       "      <td>Male</td>\n",
       "      <td>189</td>\n",
       "      <td>BC</td>\n",
       "      <td>0.603419</td>\n",
       "    </tr>\n",
       "    <tr>\n",
       "      <th>2</th>\n",
       "      <td>3</td>\n",
       "      <td>5-24-2017</td>\n",
       "      <td>Rural</td>\n",
       "      <td>Graduate</td>\n",
       "      <td>₹ 5,000 - ₹ 10,000</td>\n",
       "      <td>JAP(L)</td>\n",
       "      <td>BJP</td>\n",
       "      <td>Fully Dissatisfied</td>\n",
       "      <td>Somewhat Satisfied</td>\n",
       "      <td>25</td>\n",
       "      <td>Male</td>\n",
       "      <td>191</td>\n",
       "      <td>Gen</td>\n",
       "      <td>0.673762</td>\n",
       "    </tr>\n",
       "    <tr>\n",
       "      <th>3</th>\n",
       "      <td>4</td>\n",
       "      <td>5-24-2017</td>\n",
       "      <td>Urban</td>\n",
       "      <td>Graduate</td>\n",
       "      <td>₹ 10,000 - ₹ 20,000</td>\n",
       "      <td>RJD</td>\n",
       "      <td>RJD</td>\n",
       "      <td>Fully Dissatisfied</td>\n",
       "      <td>Somewhat Satisfied</td>\n",
       "      <td>36</td>\n",
       "      <td>Male</td>\n",
       "      <td>194</td>\n",
       "      <td>Gen</td>\n",
       "      <td>1.101298</td>\n",
       "    </tr>\n",
       "    <tr>\n",
       "      <th>4</th>\n",
       "      <td>5</td>\n",
       "      <td>5-24-2017</td>\n",
       "      <td>Rural</td>\n",
       "      <td>Graduate</td>\n",
       "      <td>₹ 50,000 - ₹ 80,000</td>\n",
       "      <td>JD(U)</td>\n",
       "      <td>Did not vote</td>\n",
       "      <td>Fully Satisfied</td>\n",
       "      <td>Fully Satisfied</td>\n",
       "      <td>22</td>\n",
       "      <td>Male</td>\n",
       "      <td>176</td>\n",
       "      <td>BC</td>\n",
       "      <td>0.333505</td>\n",
       "    </tr>\n",
       "  </tbody>\n",
       "</table>\n",
       "</div>"
      ],
      "text/plain": [
       "   response_id collection_date urban_rural  education               income  \\\n",
       "0            1       5-24-2017       Rural  12th Pass  ₹ 30,000 - ₹ 50,000   \n",
       "1            2       5-24-2017       Rural   Graduate  ₹ 20,000 - ₹ 30,000   \n",
       "2            3       5-24-2017       Rural   Graduate   ₹ 5,000 - ₹ 10,000   \n",
       "3            4       5-24-2017       Urban   Graduate  ₹ 10,000 - ₹ 20,000   \n",
       "4            5       5-24-2017       Rural   Graduate  ₹ 50,000 - ₹ 80,000   \n",
       "\n",
       "  Vote_Now     Past_Vote     CM_satisfaction    MLA_satisfaction age gender  \\\n",
       "0      BJP           BJP  Fully Dissatisfied  Fully Dissatisfied  26   Male   \n",
       "1     RLSP         JD(U)  Somewhat Satisfied  Fully Dissatisfied  34   Male   \n",
       "2   JAP(L)           BJP  Fully Dissatisfied  Somewhat Satisfied  25   Male   \n",
       "3      RJD           RJD  Fully Dissatisfied  Somewhat Satisfied  36   Male   \n",
       "4    JD(U)  Did not vote     Fully Satisfied     Fully Satisfied  22   Male   \n",
       "\n",
       "   assembly_no category    weight  \n",
       "0          211      Gen  0.346969  \n",
       "1          189       BC  0.603419  \n",
       "2          191      Gen  0.673762  \n",
       "3          194      Gen  1.101298  \n",
       "4          176       BC  0.333505  "
      ]
     },
     "execution_count": 2,
     "metadata": {},
     "output_type": "execute_result"
    }
   ],
   "source": [
    "survey = pd.read_csv('file.csv')\n",
    "survey.head()"
   ]
  },
  {
   "cell_type": "code",
   "execution_count": 3,
   "id": "de14e3e2",
   "metadata": {},
   "outputs": [
    {
     "name": "stdout",
     "output_type": "stream",
     "text": [
      "<class 'pandas.core.frame.DataFrame'>\n",
      "RangeIndex: 6867 entries, 0 to 6866\n",
      "Data columns (total 14 columns):\n",
      " #   Column            Non-Null Count  Dtype  \n",
      "---  ------            --------------  -----  \n",
      " 0   response_id       6867 non-null   int64  \n",
      " 1   collection_date   6867 non-null   object \n",
      " 2   urban_rural       6867 non-null   object \n",
      " 3   education         6867 non-null   object \n",
      " 4   income            6867 non-null   object \n",
      " 5   Vote_Now          6867 non-null   object \n",
      " 6   Past_Vote         6867 non-null   object \n",
      " 7   CM_satisfaction   6867 non-null   object \n",
      " 8   MLA_satisfaction  6867 non-null   object \n",
      " 9   age               6867 non-null   object \n",
      " 10  gender            6867 non-null   object \n",
      " 11  assembly_no       6867 non-null   int64  \n",
      " 12  category          6867 non-null   object \n",
      " 13  weight            6867 non-null   float64\n",
      "dtypes: float64(1), int64(2), object(11)\n",
      "memory usage: 751.2+ KB\n"
     ]
    }
   ],
   "source": [
    "survey.info()"
   ]
  },
  {
   "cell_type": "markdown",
   "id": "2e48b667",
   "metadata": {},
   "source": [
    "#### how many samples were collected each day"
   ]
  },
  {
   "cell_type": "code",
   "execution_count": 7,
   "id": "049e4a96",
   "metadata": {},
   "outputs": [],
   "source": [
    "#change date from object to date\n",
    "survey['date'] = pd.to_datetime(survey.collection_date)"
   ]
  },
  {
   "cell_type": "code",
   "execution_count": 8,
   "id": "90353271",
   "metadata": {},
   "outputs": [],
   "source": [
    "#get day from date\n",
    "survey['day'] = survey.date.dt.day_name()"
   ]
  },
  {
   "cell_type": "code",
   "execution_count": 10,
   "id": "2466d54b",
   "metadata": {},
   "outputs": [
    {
     "data": {
      "text/plain": [
       "Wednesday    2036\n",
       "Thursday     1605\n",
       "Sunday        761\n",
       "Saturday      665\n",
       "Monday        620\n",
       "Friday        598\n",
       "Tuesday       582\n",
       "Name: day, dtype: int64"
      ]
     },
     "execution_count": 10,
     "metadata": {},
     "output_type": "execute_result"
    }
   ],
   "source": [
    "survey.day.value_counts()"
   ]
  },
  {
   "cell_type": "code",
   "execution_count": 4,
   "id": "5b377d14",
   "metadata": {},
   "outputs": [],
   "source": [
    "survey[['month','day','year']] = survey.collection_date.str.split('-', expand=True)"
   ]
  },
  {
   "cell_type": "code",
   "execution_count": 5,
   "id": "960a8014",
   "metadata": {},
   "outputs": [
    {
     "data": {
      "text/plain": [
       "24    1479\n",
       "25     998\n",
       "28     761\n",
       "27     665\n",
       "29     620\n",
       "1      607\n",
       "26     598\n",
       "30     582\n",
       "31     557\n",
       "Name: day, dtype: int64"
      ]
     },
     "execution_count": 5,
     "metadata": {},
     "output_type": "execute_result"
    }
   ],
   "source": [
    "#survey.day.value_counts()"
   ]
  },
  {
   "cell_type": "markdown",
   "id": "b57b6475",
   "metadata": {},
   "source": [
    "#### what portion of respondents were aged below 45"
   ]
  },
  {
   "cell_type": "code",
   "execution_count": 17,
   "id": "418a01ac",
   "metadata": {},
   "outputs": [
    {
     "data": {
      "text/plain": [
       "response_id         6399\n",
       "collection_date     6399\n",
       "urban_rural         6399\n",
       "education           6399\n",
       "income              6399\n",
       "Vote_Now            6399\n",
       "Past_Vote           6399\n",
       "CM_satisfaction     6399\n",
       "MLA_satisfaction    6399\n",
       "age                 6399\n",
       "gender              6399\n",
       "assembly_no         6399\n",
       "category            6399\n",
       "weight              6399\n",
       "month               6399\n",
       "day                 6399\n",
       "year                6399\n",
       "date                6399\n",
       "dtype: int64"
      ]
     },
     "execution_count": 17,
     "metadata": {},
     "output_type": "execute_result"
    }
   ],
   "source": [
    "survey.age = pd.to_numeric(survey.age.str.replace('\\D','',regex=True)) # some ages are strings\n",
    "#survey.age.replace({'24ko':24},inplace=True)\n",
    "#survey.age = survey.age.astype(int)"
   ]
  },
  {
   "cell_type": "code",
   "execution_count": 18,
   "id": "7cd5c9e0",
   "metadata": {},
   "outputs": [
    {
     "data": {
      "text/plain": [
       "0.9318479685452162"
      ]
     },
     "execution_count": 18,
     "metadata": {},
     "output_type": "execute_result"
    }
   ],
   "source": [
    "survey[survey['age']<45]['response_id'].count()/survey.shape[0]"
   ]
  },
  {
   "cell_type": "code",
   "execution_count": null,
   "id": "a06c0d58",
   "metadata": {},
   "outputs": [],
   "source": [
    "#inserting a new column at a specific position\n",
    "#data.insert('new column position','new column name','new column values')"
   ]
  },
  {
   "cell_type": "markdown",
   "id": "070ca123",
   "metadata": {},
   "source": [
    "#### Create a new column called age group that contains the age group the respondent belongs to. Age groups are 18-24,25-39,40-54 and 55+"
   ]
  },
  {
   "cell_type": "code",
   "execution_count": 19,
   "id": "94278e92",
   "metadata": {},
   "outputs": [],
   "source": [
    "import numpy as np"
   ]
  },
  {
   "cell_type": "code",
   "execution_count": 26,
   "id": "1a11b392",
   "metadata": {},
   "outputs": [],
   "source": [
    "bins = [25,40,55,np.inf]\n",
    "labels = ['18-25','25-40','40-55','55+']\n",
    "survey['bins'] = pd.cut(survey.age, bins=bins, labels=labels, right=False, include_lowest=True)"
   ]
  },
  {
   "cell_type": "code",
   "execution_count": 27,
   "id": "939ca2f0",
   "metadata": {},
   "outputs": [
    {
     "data": {
      "text/html": [
       "<div>\n",
       "<style scoped>\n",
       "    .dataframe tbody tr th:only-of-type {\n",
       "        vertical-align: middle;\n",
       "    }\n",
       "\n",
       "    .dataframe tbody tr th {\n",
       "        vertical-align: top;\n",
       "    }\n",
       "\n",
       "    .dataframe thead th {\n",
       "        text-align: right;\n",
       "    }\n",
       "</style>\n",
       "<table border=\"1\" class=\"dataframe\">\n",
       "  <thead>\n",
       "    <tr style=\"text-align: right;\">\n",
       "      <th></th>\n",
       "      <th>response_id</th>\n",
       "      <th>collection_date</th>\n",
       "      <th>urban_rural</th>\n",
       "      <th>education</th>\n",
       "      <th>income</th>\n",
       "      <th>Vote_Now</th>\n",
       "      <th>Past_Vote</th>\n",
       "      <th>CM_satisfaction</th>\n",
       "      <th>MLA_satisfaction</th>\n",
       "      <th>age</th>\n",
       "      <th>gender</th>\n",
       "      <th>assembly_no</th>\n",
       "      <th>category</th>\n",
       "      <th>weight</th>\n",
       "      <th>month</th>\n",
       "      <th>day</th>\n",
       "      <th>year</th>\n",
       "      <th>date</th>\n",
       "      <th>bins</th>\n",
       "    </tr>\n",
       "  </thead>\n",
       "  <tbody>\n",
       "    <tr>\n",
       "      <th>0</th>\n",
       "      <td>1</td>\n",
       "      <td>5-24-2017</td>\n",
       "      <td>Rural</td>\n",
       "      <td>12th Pass</td>\n",
       "      <td>₹ 30,000 - ₹ 50,000</td>\n",
       "      <td>BJP</td>\n",
       "      <td>BJP</td>\n",
       "      <td>Fully Dissatisfied</td>\n",
       "      <td>Fully Dissatisfied</td>\n",
       "      <td>26</td>\n",
       "      <td>Male</td>\n",
       "      <td>211</td>\n",
       "      <td>Gen</td>\n",
       "      <td>0.346969</td>\n",
       "      <td>5</td>\n",
       "      <td>Wednesday</td>\n",
       "      <td>2017</td>\n",
       "      <td>2017-05-24</td>\n",
       "      <td>25-40</td>\n",
       "    </tr>\n",
       "    <tr>\n",
       "      <th>1</th>\n",
       "      <td>2</td>\n",
       "      <td>5-24-2017</td>\n",
       "      <td>Rural</td>\n",
       "      <td>Graduate</td>\n",
       "      <td>₹ 20,000 - ₹ 30,000</td>\n",
       "      <td>RLSP</td>\n",
       "      <td>JD(U)</td>\n",
       "      <td>Somewhat Satisfied</td>\n",
       "      <td>Fully Dissatisfied</td>\n",
       "      <td>34</td>\n",
       "      <td>Male</td>\n",
       "      <td>189</td>\n",
       "      <td>BC</td>\n",
       "      <td>0.603419</td>\n",
       "      <td>5</td>\n",
       "      <td>Wednesday</td>\n",
       "      <td>2017</td>\n",
       "      <td>2017-05-24</td>\n",
       "      <td>25-40</td>\n",
       "    </tr>\n",
       "    <tr>\n",
       "      <th>2</th>\n",
       "      <td>3</td>\n",
       "      <td>5-24-2017</td>\n",
       "      <td>Rural</td>\n",
       "      <td>Graduate</td>\n",
       "      <td>₹ 5,000 - ₹ 10,000</td>\n",
       "      <td>JAP(L)</td>\n",
       "      <td>BJP</td>\n",
       "      <td>Fully Dissatisfied</td>\n",
       "      <td>Somewhat Satisfied</td>\n",
       "      <td>25</td>\n",
       "      <td>Male</td>\n",
       "      <td>191</td>\n",
       "      <td>Gen</td>\n",
       "      <td>0.673762</td>\n",
       "      <td>5</td>\n",
       "      <td>Wednesday</td>\n",
       "      <td>2017</td>\n",
       "      <td>2017-05-24</td>\n",
       "      <td>25-40</td>\n",
       "    </tr>\n",
       "    <tr>\n",
       "      <th>3</th>\n",
       "      <td>4</td>\n",
       "      <td>5-24-2017</td>\n",
       "      <td>Urban</td>\n",
       "      <td>Graduate</td>\n",
       "      <td>₹ 10,000 - ₹ 20,000</td>\n",
       "      <td>RJD</td>\n",
       "      <td>RJD</td>\n",
       "      <td>Fully Dissatisfied</td>\n",
       "      <td>Somewhat Satisfied</td>\n",
       "      <td>36</td>\n",
       "      <td>Male</td>\n",
       "      <td>194</td>\n",
       "      <td>Gen</td>\n",
       "      <td>1.101298</td>\n",
       "      <td>5</td>\n",
       "      <td>Wednesday</td>\n",
       "      <td>2017</td>\n",
       "      <td>2017-05-24</td>\n",
       "      <td>25-40</td>\n",
       "    </tr>\n",
       "    <tr>\n",
       "      <th>4</th>\n",
       "      <td>5</td>\n",
       "      <td>5-24-2017</td>\n",
       "      <td>Rural</td>\n",
       "      <td>Graduate</td>\n",
       "      <td>₹ 50,000 - ₹ 80,000</td>\n",
       "      <td>JD(U)</td>\n",
       "      <td>Did not vote</td>\n",
       "      <td>Fully Satisfied</td>\n",
       "      <td>Fully Satisfied</td>\n",
       "      <td>22</td>\n",
       "      <td>Male</td>\n",
       "      <td>176</td>\n",
       "      <td>BC</td>\n",
       "      <td>0.333505</td>\n",
       "      <td>5</td>\n",
       "      <td>Wednesday</td>\n",
       "      <td>2017</td>\n",
       "      <td>2017-05-24</td>\n",
       "      <td>18-25</td>\n",
       "    </tr>\n",
       "  </tbody>\n",
       "</table>\n",
       "</div>"
      ],
      "text/plain": [
       "   response_id collection_date urban_rural  education               income  \\\n",
       "0            1       5-24-2017       Rural  12th Pass  ₹ 30,000 - ₹ 50,000   \n",
       "1            2       5-24-2017       Rural   Graduate  ₹ 20,000 - ₹ 30,000   \n",
       "2            3       5-24-2017       Rural   Graduate   ₹ 5,000 - ₹ 10,000   \n",
       "3            4       5-24-2017       Urban   Graduate  ₹ 10,000 - ₹ 20,000   \n",
       "4            5       5-24-2017       Rural   Graduate  ₹ 50,000 - ₹ 80,000   \n",
       "\n",
       "  Vote_Now     Past_Vote     CM_satisfaction    MLA_satisfaction  age gender  \\\n",
       "0      BJP           BJP  Fully Dissatisfied  Fully Dissatisfied   26   Male   \n",
       "1     RLSP         JD(U)  Somewhat Satisfied  Fully Dissatisfied   34   Male   \n",
       "2   JAP(L)           BJP  Fully Dissatisfied  Somewhat Satisfied   25   Male   \n",
       "3      RJD           RJD  Fully Dissatisfied  Somewhat Satisfied   36   Male   \n",
       "4    JD(U)  Did not vote     Fully Satisfied     Fully Satisfied   22   Male   \n",
       "\n",
       "   assembly_no category    weight month        day  year       date   bins  \n",
       "0          211      Gen  0.346969     5  Wednesday  2017 2017-05-24  25-40  \n",
       "1          189       BC  0.603419     5  Wednesday  2017 2017-05-24  25-40  \n",
       "2          191      Gen  0.673762     5  Wednesday  2017 2017-05-24  25-40  \n",
       "3          194      Gen  1.101298     5  Wednesday  2017 2017-05-24  25-40  \n",
       "4          176       BC  0.333505     5  Wednesday  2017 2017-05-24  18-25  "
      ]
     },
     "execution_count": 27,
     "metadata": {},
     "output_type": "execute_result"
    }
   ],
   "source": [
    "survey.head()"
   ]
  },
  {
   "cell_type": "markdown",
   "id": "2f50e3c1",
   "metadata": {},
   "source": [
    "#### How many samples were collected for each age group? Which age group had the most samples"
   ]
  },
  {
   "cell_type": "code",
   "execution_count": 28,
   "id": "a74c5839",
   "metadata": {},
   "outputs": [
    {
     "data": {
      "text/plain": [
       "25-40    3844\n",
       "18-25    2094\n",
       "40-55     801\n",
       "55+       128\n",
       "Name: bins, dtype: int64"
      ]
     },
     "execution_count": 28,
     "metadata": {},
     "output_type": "execute_result"
    }
   ],
   "source": [
    "survey.bins.value_counts().sort_values(ascending=False)"
   ]
  },
  {
   "cell_type": "markdown",
   "id": "4e37639b",
   "metadata": {},
   "source": [
    "#### what proportionof the respondents had opted for the RJD party in both the Vote_Now and the Past_Vote questions"
   ]
  },
  {
   "cell_type": "code",
   "execution_count": 25,
   "id": "00884d58",
   "metadata": {},
   "outputs": [
    {
     "data": {
      "text/plain": [
       "0.1181010630551915"
      ]
     },
     "execution_count": 25,
     "metadata": {},
     "output_type": "execute_result"
    }
   ],
   "source": [
    "survey[(survey.Vote_Now=='RJD') & (survey.Past_Vote=='RJD')]['response_id'].count()/survey.shape[0]"
   ]
  },
  {
   "cell_type": "markdown",
   "id": "2965ff2b",
   "metadata": {},
   "source": [
    "#### for each day of sample collection,determine the proportion who were fully satisfied with the performance of the CM.So if there were a total of 1000 samples on day 1 and 300 out of those said they were fully satisfied, then our answer for that day would be 0.3"
   ]
  },
  {
   "cell_type": "code",
   "execution_count": 33,
   "id": "c94aeb4d",
   "metadata": {},
   "outputs": [
    {
     "data": {
      "text/plain": [
       "Friday        9.866221\n",
       "Monday       11.774194\n",
       "Saturday      8.120301\n",
       "Sunday       12.089356\n",
       "Thursday     10.591900\n",
       "Tuesday      11.168385\n",
       "Wednesday    10.216110\n",
       "Name: day, dtype: float64"
      ]
     },
     "execution_count": 33,
     "metadata": {},
     "output_type": "execute_result"
    }
   ],
   "source": [
    "(survey[survey.CM_satisfaction.str.contains('Fully Satisfied')].day.value_counts()/survey.day.value_counts())*100"
   ]
  },
  {
   "cell_type": "markdown",
   "id": "4607c5cc",
   "metadata": {},
   "source": [
    "#### Create a day wise proportion of respondents that opted fully disatisfied with their MLA. Create aa line plot of the result with date on the x-axis and proportions on the y-axis"
   ]
  },
  {
   "cell_type": "code",
   "execution_count": 36,
   "id": "d54f3267",
   "metadata": {},
   "outputs": [
    {
     "data": {
      "text/plain": [
       "5-24-2017    59.972955\n",
       "5-25-2017    63.126253\n",
       "5-26-2017    59.030100\n",
       "5-27-2017    60.601504\n",
       "5-28-2017    60.709593\n",
       "5-29-2017    56.451613\n",
       "5-30-2017    62.027491\n",
       "5-31-2017    57.630162\n",
       "6-1-2017     63.426689\n",
       "Name: collection_date, dtype: float64"
      ]
     },
     "execution_count": 36,
     "metadata": {},
     "output_type": "execute_result"
    }
   ],
   "source": [
    "x = (survey[survey.MLA_satisfaction.str.contains('Fully Dissatisfied')].collection_date.value_counts()/survey.collection_date.value_counts())*100\n",
    "x"
   ]
  },
  {
   "cell_type": "code",
   "execution_count": 45,
   "id": "7065eef3",
   "metadata": {},
   "outputs": [
    {
     "data": {
      "image/png": "[encoded data removed]",
      "text/plain": [
       "<Figure size 432x288 with 1 Axes>"
      ]
     },
     "metadata": {
      "needs_background": "light"
     },
     "output_type": "display_data"
    }
   ],
   "source": [
    "plt.plot(x, color='orange')\n",
    "plt.xticks(rotation=90)\n",
    "plt.title('MLA Disatisfaction rate')\n",
    "plt.ylabel('% Disatisfaction')\n",
    "plt.xlabel('Day');"
   ]
  },
  {
   "cell_type": "markdown",
   "id": "dcaa88e8",
   "metadata": {},
   "source": [
    "#### Create a pivot table(or crosstab) with index as Past_Vote, Column as Vote_Now and cell values as the count of samples"
   ]
  },
  {
   "cell_type": "code",
   "execution_count": 47,
   "id": "00a5515e",
   "metadata": {},
   "outputs": [
    {
     "data": {
      "text/html": [
       "<div>\n",
       "<style scoped>\n",
       "    .dataframe tbody tr th:only-of-type {\n",
       "        vertical-align: middle;\n",
       "    }\n",
       "\n",
       "    .dataframe tbody tr th {\n",
       "        vertical-align: top;\n",
       "    }\n",
       "\n",
       "    .dataframe thead th {\n",
       "        text-align: right;\n",
       "    }\n",
       "</style>\n",
       "<table border=\"1\" class=\"dataframe\">\n",
       "  <thead>\n",
       "    <tr style=\"text-align: right;\">\n",
       "      <th></th>\n",
       "      <th>Vote_Now</th>\n",
       "    </tr>\n",
       "    <tr>\n",
       "      <th>Past_Vote</th>\n",
       "      <th></th>\n",
       "    </tr>\n",
       "  </thead>\n",
       "  <tbody>\n",
       "    <tr>\n",
       "      <th>BJP</th>\n",
       "      <td>2823</td>\n",
       "    </tr>\n",
       "    <tr>\n",
       "      <th>BSP</th>\n",
       "      <td>9</td>\n",
       "    </tr>\n",
       "    <tr>\n",
       "      <th>Did not vote</th>\n",
       "      <td>804</td>\n",
       "    </tr>\n",
       "    <tr>\n",
       "      <th>HAM</th>\n",
       "      <td>50</td>\n",
       "    </tr>\n",
       "    <tr>\n",
       "      <th>INC</th>\n",
       "      <td>213</td>\n",
       "    </tr>\n",
       "    <tr>\n",
       "      <th>JAP(L)</th>\n",
       "      <td>42</td>\n",
       "    </tr>\n",
       "    <tr>\n",
       "      <th>JD(U)</th>\n",
       "      <td>1374</td>\n",
       "    </tr>\n",
       "    <tr>\n",
       "      <th>LJP</th>\n",
       "      <td>125</td>\n",
       "    </tr>\n",
       "    <tr>\n",
       "      <th>Left Front</th>\n",
       "      <td>30</td>\n",
       "    </tr>\n",
       "    <tr>\n",
       "      <th>NOTA</th>\n",
       "      <td>167</td>\n",
       "    </tr>\n",
       "    <tr>\n",
       "      <th>Others</th>\n",
       "      <td>132</td>\n",
       "    </tr>\n",
       "    <tr>\n",
       "      <th>RJD</th>\n",
       "      <td>1047</td>\n",
       "    </tr>\n",
       "    <tr>\n",
       "      <th>RLSP</th>\n",
       "      <td>49</td>\n",
       "    </tr>\n",
       "    <tr>\n",
       "      <th>VIP</th>\n",
       "      <td>2</td>\n",
       "    </tr>\n",
       "  </tbody>\n",
       "</table>\n",
       "</div>"
      ],
      "text/plain": [
       "              Vote_Now\n",
       "Past_Vote             \n",
       "BJP               2823\n",
       "BSP                  9\n",
       "Did not vote       804\n",
       "HAM                 50\n",
       "INC                213\n",
       "JAP(L)              42\n",
       "JD(U)             1374\n",
       "LJP                125\n",
       "Left Front          30\n",
       "NOTA               167\n",
       "Others             132\n",
       "RJD               1047\n",
       "RLSP                49\n",
       "VIP                  2"
      ]
     },
     "execution_count": 47,
     "metadata": {},
     "output_type": "execute_result"
    }
   ],
   "source": [
    "survey.pivot_table(index = ['Past_Vote'],\n",
    "                    values = ['Vote_Now'],\n",
    "                    aggfunc = 'count')"
   ]
  },
  {
   "cell_type": "markdown",
   "id": "5021adc4",
   "metadata": {},
   "source": [
    "#### Repeat the above question with cell values as sum of weight"
   ]
  },
  {
   "cell_type": "code",
   "execution_count": 48,
   "id": "c6ba72c1",
   "metadata": {},
   "outputs": [
    {
     "data": {
      "text/html": [
       "<div>\n",
       "<style scoped>\n",
       "    .dataframe tbody tr th:only-of-type {\n",
       "        vertical-align: middle;\n",
       "    }\n",
       "\n",
       "    .dataframe tbody tr th {\n",
       "        vertical-align: top;\n",
       "    }\n",
       "\n",
       "    .dataframe thead th {\n",
       "        text-align: right;\n",
       "    }\n",
       "</style>\n",
       "<table border=\"1\" class=\"dataframe\">\n",
       "  <thead>\n",
       "    <tr style=\"text-align: right;\">\n",
       "      <th></th>\n",
       "      <th>weight</th>\n",
       "    </tr>\n",
       "    <tr>\n",
       "      <th>Past_Vote</th>\n",
       "      <th></th>\n",
       "    </tr>\n",
       "  </thead>\n",
       "  <tbody>\n",
       "    <tr>\n",
       "      <th>BJP</th>\n",
       "      <td>1819.705752</td>\n",
       "    </tr>\n",
       "    <tr>\n",
       "      <th>BSP</th>\n",
       "      <td>41.137719</td>\n",
       "    </tr>\n",
       "    <tr>\n",
       "      <th>Did not vote</th>\n",
       "      <td>565.582563</td>\n",
       "    </tr>\n",
       "    <tr>\n",
       "      <th>HAM</th>\n",
       "      <td>42.110354</td>\n",
       "    </tr>\n",
       "    <tr>\n",
       "      <th>INC</th>\n",
       "      <td>429.978586</td>\n",
       "    </tr>\n",
       "    <tr>\n",
       "      <th>JAP(L)</th>\n",
       "      <td>69.749576</td>\n",
       "    </tr>\n",
       "    <tr>\n",
       "      <th>JD(U)</th>\n",
       "      <td>1873.120263</td>\n",
       "    </tr>\n",
       "    <tr>\n",
       "      <th>LJP</th>\n",
       "      <td>192.112418</td>\n",
       "    </tr>\n",
       "    <tr>\n",
       "      <th>Left Front</th>\n",
       "      <td>68.229827</td>\n",
       "    </tr>\n",
       "    <tr>\n",
       "      <th>NOTA</th>\n",
       "      <td>122.959180</td>\n",
       "    </tr>\n",
       "    <tr>\n",
       "      <th>Others</th>\n",
       "      <td>156.880293</td>\n",
       "    </tr>\n",
       "    <tr>\n",
       "      <th>RJD</th>\n",
       "      <td>1375.447133</td>\n",
       "    </tr>\n",
       "    <tr>\n",
       "      <th>RLSP</th>\n",
       "      <td>80.438471</td>\n",
       "    </tr>\n",
       "    <tr>\n",
       "      <th>VIP</th>\n",
       "      <td>0.706465</td>\n",
       "    </tr>\n",
       "  </tbody>\n",
       "</table>\n",
       "</div>"
      ],
      "text/plain": [
       "                   weight\n",
       "Past_Vote                \n",
       "BJP           1819.705752\n",
       "BSP             41.137719\n",
       "Did not vote   565.582563\n",
       "HAM             42.110354\n",
       "INC            429.978586\n",
       "JAP(L)          69.749576\n",
       "JD(U)         1873.120263\n",
       "LJP            192.112418\n",
       "Left Front      68.229827\n",
       "NOTA           122.959180\n",
       "Others         156.880293\n",
       "RJD           1375.447133\n",
       "RLSP            80.438471\n",
       "VIP              0.706465"
      ]
     },
     "execution_count": 48,
     "metadata": {},
     "output_type": "execute_result"
    }
   ],
   "source": [
    "survey.pivot_table(index = ['Past_Vote'],\n",
    "                    values = ['weight'],\n",
    "                    aggfunc = 'sum')"
   ]
  },
  {
   "cell_type": "markdown",
   "id": "281abbd9",
   "metadata": {},
   "source": [
    "#### Create a dataframe by performing a group by age group and calculate the count of total samples under each age group"
   ]
  },
  {
   "cell_type": "code",
   "execution_count": 53,
   "id": "bbee4d45",
   "metadata": {},
   "outputs": [
    {
     "data": {
      "text/html": [
       "<div>\n",
       "<style scoped>\n",
       "    .dataframe tbody tr th:only-of-type {\n",
       "        vertical-align: middle;\n",
       "    }\n",
       "\n",
       "    .dataframe tbody tr th {\n",
       "        vertical-align: top;\n",
       "    }\n",
       "\n",
       "    .dataframe thead th {\n",
       "        text-align: right;\n",
       "    }\n",
       "</style>\n",
       "<table border=\"1\" class=\"dataframe\">\n",
       "  <thead>\n",
       "    <tr style=\"text-align: right;\">\n",
       "      <th></th>\n",
       "      <th>response_id</th>\n",
       "    </tr>\n",
       "    <tr>\n",
       "      <th>bins</th>\n",
       "      <th></th>\n",
       "    </tr>\n",
       "  </thead>\n",
       "  <tbody>\n",
       "    <tr>\n",
       "      <th>18-25</th>\n",
       "      <td>2094</td>\n",
       "    </tr>\n",
       "    <tr>\n",
       "      <th>25-40</th>\n",
       "      <td>3844</td>\n",
       "    </tr>\n",
       "    <tr>\n",
       "      <th>40-55</th>\n",
       "      <td>801</td>\n",
       "    </tr>\n",
       "    <tr>\n",
       "      <th>55+</th>\n",
       "      <td>128</td>\n",
       "    </tr>\n",
       "  </tbody>\n",
       "</table>\n",
       "</div>"
      ],
      "text/plain": [
       "       response_id\n",
       "bins              \n",
       "18-25         2094\n",
       "25-40         3844\n",
       "40-55          801\n",
       "55+            128"
      ]
     },
     "execution_count": 53,
     "metadata": {},
     "output_type": "execute_result"
    }
   ],
   "source": [
    "survey.groupby('bins')[['response_id']].count()"
   ]
  },
  {
   "cell_type": "code",
   "execution_count": null,
   "id": "a2ae7aed",
   "metadata": {},
   "outputs": [],
   "source": [
    "survey[].groupby('bins')[['response_id']].count()"
   ]
  }
 ],
 "metadata": {
  "kernelspec": {
   "display_name": "Python 3 (ipykernel)",
   "language": "python",
   "name": "python3"
  },
  "language_info": {
   "codemirror_mode": {
    "name": "ipython",
    "version": 3
   },
   "file_extension": ".py",
   "mimetype": "text/x-python",
   "name": "python",
   "nbconvert_exporter": "python",
   "pygments_lexer": "ipython3",
   "version": "3.9.7"
  }
 },
 "nbformat": 4,
 "nbformat_minor": 5
}
