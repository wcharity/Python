{
 "cells": [
  {
   "cell_type": "markdown",
   "id": "05eb5010",
   "metadata": {},
   "source": [
    "### How much time have I spent watching The Office?\n",
    "* A user wants to know how long they spent watching the show 'The Office' on netflix, so data was downloaded and an analysis done to answer this question"
   ]
  },
  {
   "cell_type": "code",
   "execution_count": 1,
   "id": "2d94e4b5",
   "metadata": {},
   "outputs": [],
   "source": [
    "import pandas as pd"
   ]
  },
  {
   "cell_type": "code",
   "execution_count": 2,
   "id": "e0b482d8",
   "metadata": {},
   "outputs": [
    {
     "name": "stdout",
     "output_type": "stream",
     "text": [
      "Charlie,2013-03-20 5:17:53,0:00:05,,Star Trek: Deep Space Nine: Season 5: Empok Nor (Episode 24),,Mac,0:00:05,Not latest view,US (United States) Charlie,2013-03-20 4:27:45,0:44:31,,Star Trek: Deep Space Nine: Season 5: Blaze of Glory (Episode 23),,Mac,0:44:31,Not latest view,US (United States) Charlie,2013-03-20 4:05:21,0:22:06,,Star Trek: Deep Space Nine: Season 5: Children of Time (Episode 22),,Mac,0:44:37,0:44:37,US (United States) Charlie,2013-03-20 0:20:03,0:48:14,,The Invisible War,,Micros\n"
     ]
    }
   ],
   "source": [
    "#how the data looks like\n",
    "with open('data.txt', 'r') as f:\n",
    "        txt = f.read()\n",
    "        print(txt[:500])"
   ]
  },
  {
   "cell_type": "code",
   "execution_count": 3,
   "id": "faef9116",
   "metadata": {},
   "outputs": [],
   "source": [
    "def get_items(mydata):\n",
    "    my_list = ''\n",
    "   # new_list = ''\n",
    "    \n",
    "    with open(mydata, 'r') as f:\n",
    "        txt = f.read()\n",
    "        my_list = [x.split(',') for x in txt.split('(United States)')]\n",
    "        \n",
    "    my_list = [l for l in my_list if len(l) == 10] # data contains 10 columns\n",
    "       \n",
    "    return my_list\n",
    "        "
   ]
  },
  {
   "cell_type": "code",
   "execution_count": null,
   "id": "c732ab26",
   "metadata": {},
   "outputs": [],
   "source": []
  },
  {
   "cell_type": "code",
   "execution_count": 4,
   "id": "8f74fd6b",
   "metadata": {},
   "outputs": [],
   "source": [
    "b = get_items('data.txt')"
   ]
  },
  {
   "cell_type": "code",
   "execution_count": 5,
   "id": "9d9c1308",
   "metadata": {},
   "outputs": [
    {
     "data": {
      "text/plain": [
       "[['Charlie',\n",
       "  '2013-03-20 5:17:53',\n",
       "  '0:00:05',\n",
       "  '',\n",
       "  'Star Trek: Deep Space Nine: Season 5: Empok Nor (Episode 24)',\n",
       "  '',\n",
       "  'Mac',\n",
       "  '0:00:05',\n",
       "  'Not latest view',\n",
       "  'US '],\n",
       " [' Charlie',\n",
       "  '2013-03-20 4:27:45',\n",
       "  '0:44:31',\n",
       "  '',\n",
       "  'Star Trek: Deep Space Nine: Season 5: Blaze of Glory (Episode 23)',\n",
       "  '',\n",
       "  'Mac',\n",
       "  '0:44:31',\n",
       "  'Not latest view',\n",
       "  'US '],\n",
       " [' Charlie',\n",
       "  '2013-03-20 4:05:21',\n",
       "  '0:22:06',\n",
       "  '',\n",
       "  'Star Trek: Deep Space Nine: Season 5: Children of Time (Episode 22)',\n",
       "  '',\n",
       "  'Mac',\n",
       "  '0:44:37',\n",
       "  '0:44:37',\n",
       "  'US ']]"
      ]
     },
     "execution_count": 5,
     "metadata": {},
     "output_type": "execute_result"
    }
   ],
   "source": [
    "#check how the data looks like\n",
    "b[:3]"
   ]
  },
  {
   "cell_type": "markdown",
   "id": "24d1b288",
   "metadata": {},
   "source": [
    "### create the dataframe"
   ]
  },
  {
   "cell_type": "code",
   "execution_count": 6,
   "id": "ad070700",
   "metadata": {},
   "outputs": [
    {
     "data": {
      "text/html": [
       "<div>\n",
       "<style scoped>\n",
       "    .dataframe tbody tr th:only-of-type {\n",
       "        vertical-align: middle;\n",
       "    }\n",
       "\n",
       "    .dataframe tbody tr th {\n",
       "        vertical-align: top;\n",
       "    }\n",
       "\n",
       "    .dataframe thead th {\n",
       "        text-align: right;\n",
       "    }\n",
       "</style>\n",
       "<table border=\"1\" class=\"dataframe\">\n",
       "  <thead>\n",
       "    <tr style=\"text-align: right;\">\n",
       "      <th></th>\n",
       "      <th>Profile Name</th>\n",
       "      <th>Start Time</th>\n",
       "      <th>Duration</th>\n",
       "      <th>Attributes</th>\n",
       "      <th>Title</th>\n",
       "      <th>Supplemental Video Type</th>\n",
       "      <th>Device Type</th>\n",
       "      <th>Bookmark</th>\n",
       "      <th>Latest Bookmark</th>\n",
       "      <th>Country</th>\n",
       "    </tr>\n",
       "  </thead>\n",
       "  <tbody>\n",
       "    <tr>\n",
       "      <th>0</th>\n",
       "      <td>Charlie</td>\n",
       "      <td>2013-03-20 5:17:53</td>\n",
       "      <td>0:00:05</td>\n",
       "      <td></td>\n",
       "      <td>Star Trek: Deep Space Nine: Season 5: Empok No...</td>\n",
       "      <td></td>\n",
       "      <td>Mac</td>\n",
       "      <td>0:00:05</td>\n",
       "      <td>Not latest view</td>\n",
       "      <td>US</td>\n",
       "    </tr>\n",
       "    <tr>\n",
       "      <th>1</th>\n",
       "      <td>Charlie</td>\n",
       "      <td>2013-03-20 4:27:45</td>\n",
       "      <td>0:44:31</td>\n",
       "      <td></td>\n",
       "      <td>Star Trek: Deep Space Nine: Season 5: Blaze of...</td>\n",
       "      <td></td>\n",
       "      <td>Mac</td>\n",
       "      <td>0:44:31</td>\n",
       "      <td>Not latest view</td>\n",
       "      <td>US</td>\n",
       "    </tr>\n",
       "    <tr>\n",
       "      <th>2</th>\n",
       "      <td>Charlie</td>\n",
       "      <td>2013-03-20 4:05:21</td>\n",
       "      <td>0:22:06</td>\n",
       "      <td></td>\n",
       "      <td>Star Trek: Deep Space Nine: Season 5: Children...</td>\n",
       "      <td></td>\n",
       "      <td>Mac</td>\n",
       "      <td>0:44:37</td>\n",
       "      <td>0:44:37</td>\n",
       "      <td>US</td>\n",
       "    </tr>\n",
       "    <tr>\n",
       "      <th>3</th>\n",
       "      <td>Charlie</td>\n",
       "      <td>2013-03-20 0:20:03</td>\n",
       "      <td>0:48:14</td>\n",
       "      <td></td>\n",
       "      <td>The Invisible War</td>\n",
       "      <td></td>\n",
       "      <td>Microsoft Xbox 360</td>\n",
       "      <td>0:53:18</td>\n",
       "      <td>0:53:18</td>\n",
       "      <td>US</td>\n",
       "    </tr>\n",
       "    <tr>\n",
       "      <th>4</th>\n",
       "      <td>Charlie</td>\n",
       "      <td>2013-03-20 0:10:31</td>\n",
       "      <td>0:04:51</td>\n",
       "      <td></td>\n",
       "      <td>The Invisible War</td>\n",
       "      <td></td>\n",
       "      <td>Mac</td>\n",
       "      <td>0:05:01</td>\n",
       "      <td>Not latest view</td>\n",
       "      <td>US</td>\n",
       "    </tr>\n",
       "  </tbody>\n",
       "</table>\n",
       "</div>"
      ],
      "text/plain": [
       "  Profile Name          Start Time Duration Attributes  \\\n",
       "0      Charlie  2013-03-20 5:17:53  0:00:05              \n",
       "1      Charlie  2013-03-20 4:27:45  0:44:31              \n",
       "2      Charlie  2013-03-20 4:05:21  0:22:06              \n",
       "3      Charlie  2013-03-20 0:20:03  0:48:14              \n",
       "4      Charlie  2013-03-20 0:10:31  0:04:51              \n",
       "\n",
       "                                               Title Supplemental Video Type  \\\n",
       "0  Star Trek: Deep Space Nine: Season 5: Empok No...                           \n",
       "1  Star Trek: Deep Space Nine: Season 5: Blaze of...                           \n",
       "2  Star Trek: Deep Space Nine: Season 5: Children...                           \n",
       "3                                  The Invisible War                           \n",
       "4                                  The Invisible War                           \n",
       "\n",
       "          Device Type Bookmark  Latest Bookmark Country  \n",
       "0                 Mac  0:00:05  Not latest view     US   \n",
       "1                 Mac  0:44:31  Not latest view     US   \n",
       "2                 Mac  0:44:37          0:44:37     US   \n",
       "3  Microsoft Xbox 360  0:53:18          0:53:18     US   \n",
       "4                 Mac  0:05:01  Not latest view     US   "
      ]
     },
     "execution_count": 6,
     "metadata": {},
     "output_type": "execute_result"
    }
   ],
   "source": [
    "\n",
    "d = pd.DataFrame(b, columns = ['Profile Name','Start Time','Duration','Attributes','Title','Supplemental Video Type','Device Type','Bookmark','Latest Bookmark','Country'])\n",
    "d.head()"
   ]
  },
  {
   "cell_type": "markdown",
   "id": "617f3985",
   "metadata": {},
   "source": [
    "### Drop unnecessary columns"
   ]
  },
  {
   "cell_type": "code",
   "execution_count": 7,
   "id": "95ef4e13",
   "metadata": {},
   "outputs": [
    {
     "data": {
      "text/html": [
       "<div>\n",
       "<style scoped>\n",
       "    .dataframe tbody tr th:only-of-type {\n",
       "        vertical-align: middle;\n",
       "    }\n",
       "\n",
       "    .dataframe tbody tr th {\n",
       "        vertical-align: top;\n",
       "    }\n",
       "\n",
       "    .dataframe thead th {\n",
       "        text-align: right;\n",
       "    }\n",
       "</style>\n",
       "<table border=\"1\" class=\"dataframe\">\n",
       "  <thead>\n",
       "    <tr style=\"text-align: right;\">\n",
       "      <th></th>\n",
       "      <th>Start Time</th>\n",
       "      <th>Duration</th>\n",
       "      <th>Title</th>\n",
       "    </tr>\n",
       "  </thead>\n",
       "  <tbody>\n",
       "    <tr>\n",
       "      <th>0</th>\n",
       "      <td>2013-03-20 5:17:53</td>\n",
       "      <td>0:00:05</td>\n",
       "      <td>Star Trek: Deep Space Nine: Season 5: Empok No...</td>\n",
       "    </tr>\n",
       "  </tbody>\n",
       "</table>\n",
       "</div>"
      ],
      "text/plain": [
       "           Start Time Duration  \\\n",
       "0  2013-03-20 5:17:53  0:00:05   \n",
       "\n",
       "                                               Title  \n",
       "0  Star Trek: Deep Space Nine: Season 5: Empok No...  "
      ]
     },
     "execution_count": 7,
     "metadata": {},
     "output_type": "execute_result"
    }
   ],
   "source": [
    "df = d.drop(['Profile Name', 'Attributes', 'Supplemental Video Type', 'Device Type', 'Bookmark', 'Latest Bookmark', 'Country'], axis=1)\n",
    "df.head(1)"
   ]
  },
  {
   "cell_type": "markdown",
   "id": "ec4449ed",
   "metadata": {},
   "source": [
    "### Check  and change data types"
   ]
  },
  {
   "cell_type": "code",
   "execution_count": 8,
   "id": "ca7649d6",
   "metadata": {},
   "outputs": [
    {
     "data": {
      "text/plain": [
       "Start Time    object\n",
       "Duration      object\n",
       "Title         object\n",
       "dtype: object"
      ]
     },
     "execution_count": 8,
     "metadata": {},
     "output_type": "execute_result"
    }
   ],
   "source": [
    "df.dtypes"
   ]
  },
  {
   "cell_type": "code",
   "execution_count": 9,
   "id": "6ccc4099",
   "metadata": {},
   "outputs": [],
   "source": [
    "df['Start Time'] = pd.to_datetime(df['Start Time'], utc=True) # utc = Universal time zone\n"
   ]
  },
  {
   "cell_type": "code",
   "execution_count": 10,
   "id": "599e4520",
   "metadata": {},
   "outputs": [],
   "source": [
    "# convert utc to my timezone\n",
    "#need to first set the column to index\n",
    "df = df.set_index('Start Time')\n",
    "\n",
    "df.index = df.index.tz_convert('Africa/Nairobi')\n",
    "\n",
    "\n"
   ]
  },
  {
   "cell_type": "code",
   "execution_count": 11,
   "id": "0e03965d",
   "metadata": {},
   "outputs": [],
   "source": [
    "df = df.reset_index()"
   ]
  },
  {
   "cell_type": "code",
   "execution_count": 12,
   "id": "59a0dd5d",
   "metadata": {},
   "outputs": [
    {
     "data": {
      "text/html": [
       "<div>\n",
       "<style scoped>\n",
       "    .dataframe tbody tr th:only-of-type {\n",
       "        vertical-align: middle;\n",
       "    }\n",
       "\n",
       "    .dataframe tbody tr th {\n",
       "        vertical-align: top;\n",
       "    }\n",
       "\n",
       "    .dataframe thead th {\n",
       "        text-align: right;\n",
       "    }\n",
       "</style>\n",
       "<table border=\"1\" class=\"dataframe\">\n",
       "  <thead>\n",
       "    <tr style=\"text-align: right;\">\n",
       "      <th></th>\n",
       "      <th>Start Time</th>\n",
       "      <th>Duration</th>\n",
       "      <th>Title</th>\n",
       "    </tr>\n",
       "  </thead>\n",
       "  <tbody>\n",
       "    <tr>\n",
       "      <th>0</th>\n",
       "      <td>2013-03-20 08:17:53+03:00</td>\n",
       "      <td>0:00:05</td>\n",
       "      <td>Star Trek: Deep Space Nine: Season 5: Empok No...</td>\n",
       "    </tr>\n",
       "    <tr>\n",
       "      <th>1</th>\n",
       "      <td>2013-03-20 07:27:45+03:00</td>\n",
       "      <td>0:44:31</td>\n",
       "      <td>Star Trek: Deep Space Nine: Season 5: Blaze of...</td>\n",
       "    </tr>\n",
       "    <tr>\n",
       "      <th>2</th>\n",
       "      <td>2013-03-20 07:05:21+03:00</td>\n",
       "      <td>0:22:06</td>\n",
       "      <td>Star Trek: Deep Space Nine: Season 5: Children...</td>\n",
       "    </tr>\n",
       "  </tbody>\n",
       "</table>\n",
       "</div>"
      ],
      "text/plain": [
       "                 Start Time Duration  \\\n",
       "0 2013-03-20 08:17:53+03:00  0:00:05   \n",
       "1 2013-03-20 07:27:45+03:00  0:44:31   \n",
       "2 2013-03-20 07:05:21+03:00  0:22:06   \n",
       "\n",
       "                                               Title  \n",
       "0  Star Trek: Deep Space Nine: Season 5: Empok No...  \n",
       "1  Star Trek: Deep Space Nine: Season 5: Blaze of...  \n",
       "2  Star Trek: Deep Space Nine: Season 5: Children...  "
      ]
     },
     "execution_count": 12,
     "metadata": {},
     "output_type": "execute_result"
    }
   ],
   "source": [
    "df.head(3)"
   ]
  },
  {
   "cell_type": "code",
   "execution_count": 13,
   "id": "b406c98a",
   "metadata": {},
   "outputs": [],
   "source": [
    "df['Duration'] = pd.to_timedelta(df['Duration'])"
   ]
  },
  {
   "cell_type": "markdown",
   "id": "3bb949ee",
   "metadata": {},
   "source": [
    "### get only office data"
   ]
  },
  {
   "cell_type": "code",
   "execution_count": 14,
   "id": "e5dc9f42",
   "metadata": {},
   "outputs": [
    {
     "data": {
      "text/html": [
       "<div>\n",
       "<style scoped>\n",
       "    .dataframe tbody tr th:only-of-type {\n",
       "        vertical-align: middle;\n",
       "    }\n",
       "\n",
       "    .dataframe tbody tr th {\n",
       "        vertical-align: top;\n",
       "    }\n",
       "\n",
       "    .dataframe thead th {\n",
       "        text-align: right;\n",
       "    }\n",
       "</style>\n",
       "<table border=\"1\" class=\"dataframe\">\n",
       "  <thead>\n",
       "    <tr style=\"text-align: right;\">\n",
       "      <th></th>\n",
       "      <th>Start Time</th>\n",
       "      <th>Duration</th>\n",
       "      <th>Title</th>\n",
       "    </tr>\n",
       "  </thead>\n",
       "  <tbody>\n",
       "    <tr>\n",
       "      <th>9</th>\n",
       "      <td>2013-03-19 02:25:36+03:00</td>\n",
       "      <td>0 days 00:00:02</td>\n",
       "      <td>The Office (U.S.): Season 5: The Duel (Episode...</td>\n",
       "    </tr>\n",
       "    <tr>\n",
       "      <th>10</th>\n",
       "      <td>2013-03-19 02:04:22+03:00</td>\n",
       "      <td>0 days 00:21:07</td>\n",
       "      <td>The Office (U.S.): Season 5: Moroccan Christma...</td>\n",
       "    </tr>\n",
       "    <tr>\n",
       "      <th>11</th>\n",
       "      <td>2013-03-19 01:42:50+03:00</td>\n",
       "      <td>0 days 00:21:30</td>\n",
       "      <td>The Office (U.S.): Season 5: The Surplus (Epis...</td>\n",
       "    </tr>\n",
       "    <tr>\n",
       "      <th>12</th>\n",
       "      <td>2013-03-19 01:21:52+03:00</td>\n",
       "      <td>0 days 00:20:55</td>\n",
       "      <td>The Office (U.S.): Season 5: Frame Toby (Episo...</td>\n",
       "    </tr>\n",
       "    <tr>\n",
       "      <th>13</th>\n",
       "      <td>2013-03-19 01:20:53+03:00</td>\n",
       "      <td>0 days 00:00:55</td>\n",
       "      <td>The Office (U.S.): Season 5: Business Trip (Ep...</td>\n",
       "    </tr>\n",
       "  </tbody>\n",
       "</table>\n",
       "</div>"
      ],
      "text/plain": [
       "                  Start Time        Duration  \\\n",
       "9  2013-03-19 02:25:36+03:00 0 days 00:00:02   \n",
       "10 2013-03-19 02:04:22+03:00 0 days 00:21:07   \n",
       "11 2013-03-19 01:42:50+03:00 0 days 00:21:30   \n",
       "12 2013-03-19 01:21:52+03:00 0 days 00:20:55   \n",
       "13 2013-03-19 01:20:53+03:00 0 days 00:00:55   \n",
       "\n",
       "                                                Title  \n",
       "9   The Office (U.S.): Season 5: The Duel (Episode...  \n",
       "10  The Office (U.S.): Season 5: Moroccan Christma...  \n",
       "11  The Office (U.S.): Season 5: The Surplus (Epis...  \n",
       "12  The Office (U.S.): Season 5: Frame Toby (Episo...  \n",
       "13  The Office (U.S.): Season 5: Business Trip (Ep...  "
      ]
     },
     "execution_count": 14,
     "metadata": {},
     "output_type": "execute_result"
    }
   ],
   "source": [
    "office_df = df[df['Title'].str.contains('The Office (U.S.)', regex=False)] # regex = False tells the function that the string is not a regular expression\n",
    "office_df.head()"
   ]
  },
  {
   "cell_type": "code",
   "execution_count": 15,
   "id": "d50adb2b",
   "metadata": {},
   "outputs": [],
   "source": [
    "# some durations are seconds which means that was a preview and not really watching, so we remove those small durations\n",
    "office_df = office_df[office_df['Duration'] >= '0 days 00:05:00']"
   ]
  },
  {
   "cell_type": "markdown",
   "id": "1d4840cb",
   "metadata": {},
   "source": [
    "\n",
    "### Time spent watching the office\n"
   ]
  },
  {
   "cell_type": "code",
   "execution_count": 16,
   "id": "982d0b96",
   "metadata": {},
   "outputs": [
    {
     "data": {
      "text/plain": [
       "Timedelta('1 days 12:56:40')"
      ]
     },
     "execution_count": 16,
     "metadata": {},
     "output_type": "execute_result"
    }
   ],
   "source": [
    "office_df['Duration'].sum()"
   ]
  },
  {
   "cell_type": "markdown",
   "id": "f9310011",
   "metadata": {},
   "source": [
    "### When does the user watch The Office?"
   ]
  },
  {
   "cell_type": "code",
   "execution_count": 17,
   "id": "e426aaad",
   "metadata": {},
   "outputs": [],
   "source": [
    "office_df['Weekday'] = office_df['Start Time'].dt.day_name()\n",
    "office_df['Hour'] = office_df['Start Time'].dt.hour"
   ]
  },
  {
   "cell_type": "code",
   "execution_count": 18,
   "id": "85e77ec1",
   "metadata": {},
   "outputs": [
    {
     "data": {
      "text/plain": [
       "Saturday     25\n",
       "Monday       24\n",
       "Tuesday      22\n",
       "Sunday       15\n",
       "Wednesday    12\n",
       "Friday       10\n",
       "Thursday      8\n",
       "Name: Weekday, dtype: int64"
      ]
     },
     "execution_count": 18,
     "metadata": {},
     "output_type": "execute_result"
    }
   ],
   "source": [
    "office_by_day = office_df['Weekday'].value_counts()\n",
    "office_by_day"
   ]
  },
  {
   "cell_type": "code",
   "execution_count": 19,
   "id": "3fe266a7",
   "metadata": {},
   "outputs": [],
   "source": [
    "import matplotlib.pyplot as plt"
   ]
  },
  {
   "cell_type": "code",
   "execution_count": 20,
   "id": "b64df100",
   "metadata": {},
   "outputs": [
    {
     "data": {
      "image/png": "[encoded data removed]",
      "text/plain": [
       "<Figure size 864x576 with 1 Axes>"
      ]
     },
     "metadata": {
      "needs_background": "light"
     },
     "output_type": "display_data"
    }
   ],
   "source": [
    "plt.figure(figsize=(12,8))\n",
    "plt.bar(office_by_day.index,office_by_day)\n",
    "plt.title('Office Episodes Watched by Day')\n",
    "plt.xticks(rotation=45);"
   ]
  },
  {
   "cell_type": "markdown",
   "id": "840be74b",
   "metadata": {},
   "source": [
    "* The user watched the office mostly on Sunday, Monday and Tuesday"
   ]
  },
  {
   "cell_type": "code",
   "execution_count": 21,
   "id": "3b91725e",
   "metadata": {},
   "outputs": [],
   "source": [
    "office_by_hour = office_df['Hour'].value_counts()"
   ]
  },
  {
   "cell_type": "code",
   "execution_count": 22,
   "id": "6fded870",
   "metadata": {},
   "outputs": [
    {
     "data": {
      "image/png": "[encoded data removed]",
      "text/plain": [
       "<Figure size 1440x720 with 1 Axes>"
      ]
     },
     "metadata": {
      "needs_background": "light"
     },
     "output_type": "display_data"
    }
   ],
   "source": [
    "office_by_hour.plot(kind = 'bar' , figsize=(20,10), title = 'Office Episodes Watched by Hour');"
   ]
  },
  {
   "cell_type": "markdown",
   "id": "d50a34c4",
   "metadata": {},
   "source": [
    "* It shows the user watched mostly between midnight and 2 a.m an also between 7 and 8 a.m."
   ]
  },
  {
   "cell_type": "code",
   "execution_count": null,
   "id": "ecb99c1e",
   "metadata": {},
   "outputs": [],
   "source": []
  }
 ],
 "metadata": {
  "kernelspec": {
   "display_name": "Python 3 (ipykernel)",
   "language": "python",
   "name": "python3"
  },
  "language_info": {
   "codemirror_mode": {
    "name": "ipython",
    "version": 3
   },
   "file_extension": ".py",
   "mimetype": "text/x-python",
   "name": "python",
   "nbconvert_exporter": "python",
   "pygments_lexer": "ipython3",
   "version": "3.9.7"
  }
 },
 "nbformat": 4,
 "nbformat_minor": 5
}
